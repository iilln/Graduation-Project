{
  "cells": [
    {
      "cell_type": "markdown",
      "metadata": {
        "id": "view-in-github",
        "colab_type": "text"
      },
      "source": [
        "<a href=\"https://colab.research.google.com/github/iilln/Graduation-Project/blob/main/project1.ipynb\" target=\"_parent\"><img src=\"https://colab.research.google.com/assets/colab-badge.svg\" alt=\"Open In Colab\"/></a>"
      ]
    },
    {
      "cell_type": "code",
      "execution_count": null,
      "metadata": {
        "id": "vxHCZDiobeXB",
        "colab": {
          "base_uri": "https://localhost:8080/"
        },
        "outputId": "b00ce64b-1135-41c5-9017-2a694ed2f1ad"
      },
      "outputs": [
        {
          "output_type": "stream",
          "name": "stdout",
          "text": [
            "Mounted at /content/drive\n"
          ]
        }
      ],
      "source": [
        "from google.colab import drive\n",
        "drive.mount('/content/drive')"
      ]
    },
    {
      "cell_type": "code",
      "execution_count": null,
      "metadata": {
        "id": "wYhvZPaGIyBR"
      },
      "outputs": [],
      "source": [
        "# Import necessary libraries\n",
        "from sklearn.feature_extraction.text import TfidfVectorizer\n",
        "from sklearn.svm import SVC\n",
        "import re\n",
        "from joblib import load"
      ]
    },
    {
      "cell_type": "code",
      "execution_count": null,
      "metadata": {
        "id": "sO3N3sdckoRz",
        "colab": {
          "base_uri": "https://localhost:8080/",
          "height": 53
        },
        "outputId": "d55fffa7-3a59-440b-a0c4-a46b60d4a172"
      },
      "outputs": [
        {
          "name": "stdout",
          "output_type": "stream",
          "text": [
            "Enter a text: always lie to a hoe\n"
          ]
        },
        {
          "output_type": "display_data",
          "data": {
            "text/plain": [
              "<IPython.core.display.HTML object>"
            ],
            "text/html": [
              "<span style=\"color: black; text-decoration: line-through; text-decoration-color: red;\">always lie to a hoe</span>"
            ]
          },
          "metadata": {}
        }
      ],
      "source": [
        "from IPython.display import HTML\n",
        "\n",
        "# Sample trained model (you need to load your actual trained model and vectorizer)\n",
        "# Ensure you save your trained SVM model and vectorizer for this step.\n",
        "# from joblib import load\n",
        "vectorizer = load('/content/drive/MyDrive/مشروع التخرج/vectorizer.pkl')\n",
        "svm_model_linear = load('/content/drive/MyDrive/مشروع التخرج/svm_model.pkl')\n",
        "\n",
        "# Replace this with actual loading in your code\n",
        "#vectorizer = TfidfVectorizer(ngram_range=(1, 2))\n",
        "#svm_model_linear = SVC(kernel='linear', C=1)\n",
        "\n",
        "# Preprocessing function to clean the input tweet\n",
        "def preprocess_tweet(tweet):\n",
        "    tweet = tweet.lower()  # Convert to lowercase\n",
        "    tweet = re.sub(r'http\\S+', '', tweet)  # Remove URLs\n",
        "    tweet = re.sub(r'[^\\w\\s]', '', tweet)  # Remove punctuation\n",
        "    tweet = re.sub(r'\\d+', '', tweet)  # Remove numbers\n",
        "    return tweet\n",
        "\n",
        "# Input tweet\n",
        "input_tweet = input(\"Enter a text: \")\n",
        "\n",
        "# Preprocess the tweet\n",
        "cleaned_tweet = preprocess_tweet(input_tweet)\n",
        "\n",
        "# Vectorize the tweet\n",
        "vectorized_tweet = vectorizer.transform([cleaned_tweet])\n",
        "\n",
        "# Predict the label\n",
        "prediction = svm_model_linear.predict(vectorized_tweet)\n",
        "\n",
        "# Output the result\n",
        "if prediction[0] == 0:\n",
        "    print(\"The text is classified as: Normal \\n\"+input_tweet)\n",
        "else:\n",
        "    styled_text = f'<span style=\"color: black; text-decoration: line-through; text-decoration-color: red;\">{input_tweet}</span>'\n",
        "    display(HTML(styled_text))"
      ]
    }
  ],
  "metadata": {
    "accelerator": "GPU",
    "colab": {
      "gpuType": "T4",
      "provenance": [],
      "include_colab_link": true
    },
    "kernelspec": {
      "display_name": "Python 3",
      "name": "python3"
    },
    "language_info": {
      "name": "python"
    }
  },
  "nbformat": 4,
  "nbformat_minor": 0
}